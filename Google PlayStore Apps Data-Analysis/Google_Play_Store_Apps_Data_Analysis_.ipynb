{
 "cells": [
  {
   "cell_type": "markdown",
   "metadata": {
    "id": "V2EIpSrlbQYA"
   },
   "source": [
    "### Introduction\n",
    "\n",
    "In the current mobile-first world, Google Play Store hosts millions of apps across various categories, serving diverse needs of users worldwide. Analyzing this dataset provides insights into app popularity, user preferences, pricing models, and potential areas for improvement for app developers and businesses. This project will use Python's data analysis libraries to explore and visualize various aspects of apps on the Google Play Store, offering insights that could guide developers, marketers, and stakeholders to make data-driven decisions.\n",
    "\n",
    "### Proposal\n",
    "\n",
    "The primary objective of this analysis is to understand trends and characteristics of apps in the Google Play Store. This includes studying app ratings, user reviews, install counts, pricing models, and how these factors vary across different app categories. Additionally, we aim to identify high-performing apps, analyze free vs. paid apps, and understand user engagement through reviews and installs. Specifically, we’ll address questions like the average rating of apps, top categories by popularity, and the apps with the highest installs and reviews. Visualizations will also be provided to help interpret trends and patterns in the dataset.\n",
    "\n",
    "### Dataset Overview\n",
    "\n",
    "The Google Play Store dataset contains 13 columns and 10,841 rows, with the following key columns:\n",
    "\n",
    "- **App**: Name of the application\n",
    "- **Category**: Category under which the app is listed\n",
    "- **Rating**: Average user rating for the app (on a scale from 1 to 5)\n",
    "- **Reviews**: Number of user reviews\n",
    "- **Size**: Size of the app\n",
    "- **Installs**: Number of times the app has been installed\n",
    "- **Type**: Free or Paid\n",
    "- **Price**: Price of the app (if any)\n",
    "- **Content Rating**: Age group suitable for the app\n",
    "- **Genres**: Genre categories of the app\n",
    "- **Last Updated**: Date when the app was last updated\n",
    "- **Current Ver**: Current version of the app\n",
    "- **Android Ver**: Minimum Android version required to run the app\n",
    "\n",
    "Several columns, such as `Rating`, `Installs`, `Reviews`, `Type`, and `Price`, will be of special interest for quantitative analysis, while other columns, like `Category`, will be used for segmenting the data."
   ]
  },
  {
   "cell_type": "markdown",
   "metadata": {
    "id": "NZHYirwnOHDM"
   },
   "source": [
    "**Import Libraries & Data Load**"
   ]
  },
  {
   "cell_type": "code",
   "execution_count": 1,
   "metadata": {
    "id": "7KdQxEjXKeQi"
   },
   "outputs": [],
   "source": [
    "# Importing Libraries\n",
    "import pandas as pd\n",
    "import numpy as np\n",
    "import matplotlib.pyplot as plt\n",
    "import seaborn as sns\n",
    "\n",
    "# Loading Dataset\n",
    "file_path = 'googleplaystore.csv'\n",
    "df = pd.read_csv(file_path)"
   ]
  },
  {
   "cell_type": "markdown",
   "metadata": {
    "id": "gJ0Hp7MBTNOm"
   },
   "source": [
    "* Display the First 5 Rows of the Dataset"
   ]
  },
  {
   "cell_type": "code",
   "execution_count": 2,
   "metadata": {
    "colab": {
     "base_uri": "https://localhost:8080/",
     "height": 293
    },
    "id": "S4dS71-GTPOF",
    "outputId": "91facc09-2057-444c-c4ef-d96d6fa2e531"
   },
   "outputs": [
    {
     "data": {
      "text/html": [
       "<div>\n",
       "<style scoped>\n",
       "    .dataframe tbody tr th:only-of-type {\n",
       "        vertical-align: middle;\n",
       "    }\n",
       "\n",
       "    .dataframe tbody tr th {\n",
       "        vertical-align: top;\n",
       "    }\n",
       "\n",
       "    .dataframe thead th {\n",
       "        text-align: right;\n",
       "    }\n",
       "</style>\n",
       "<table border=\"1\" class=\"dataframe\">\n",
       "  <thead>\n",
       "    <tr style=\"text-align: right;\">\n",
       "      <th></th>\n",
       "      <th>App</th>\n",
       "      <th>Category</th>\n",
       "      <th>Rating</th>\n",
       "      <th>Reviews</th>\n",
       "      <th>Size</th>\n",
       "      <th>Installs</th>\n",
       "      <th>Type</th>\n",
       "      <th>Price</th>\n",
       "      <th>Content Rating</th>\n",
       "      <th>Genres</th>\n",
       "      <th>Last Updated</th>\n",
       "      <th>Current Ver</th>\n",
       "      <th>Android Ver</th>\n",
       "    </tr>\n",
       "  </thead>\n",
       "  <tbody>\n",
       "    <tr>\n",
       "      <th>0</th>\n",
       "      <td>Photo Editor &amp; Candy Camera &amp; Grid &amp; ScrapBook</td>\n",
       "      <td>ART_AND_DESIGN</td>\n",
       "      <td>4.1</td>\n",
       "      <td>159</td>\n",
       "      <td>19M</td>\n",
       "      <td>10,000+</td>\n",
       "      <td>Free</td>\n",
       "      <td>0</td>\n",
       "      <td>Everyone</td>\n",
       "      <td>Art &amp; Design</td>\n",
       "      <td>January 7, 2018</td>\n",
       "      <td>1.0.0</td>\n",
       "      <td>4.0.3 and up</td>\n",
       "    </tr>\n",
       "    <tr>\n",
       "      <th>1</th>\n",
       "      <td>Coloring book moana</td>\n",
       "      <td>ART_AND_DESIGN</td>\n",
       "      <td>3.9</td>\n",
       "      <td>967</td>\n",
       "      <td>14M</td>\n",
       "      <td>500,000+</td>\n",
       "      <td>Free</td>\n",
       "      <td>0</td>\n",
       "      <td>Everyone</td>\n",
       "      <td>Art &amp; Design;Pretend Play</td>\n",
       "      <td>January 15, 2018</td>\n",
       "      <td>2.0.0</td>\n",
       "      <td>4.0.3 and up</td>\n",
       "    </tr>\n",
       "    <tr>\n",
       "      <th>2</th>\n",
       "      <td>U Launcher Lite – FREE Live Cool Themes, Hide ...</td>\n",
       "      <td>ART_AND_DESIGN</td>\n",
       "      <td>4.7</td>\n",
       "      <td>87510</td>\n",
       "      <td>8.7M</td>\n",
       "      <td>5,000,000+</td>\n",
       "      <td>Free</td>\n",
       "      <td>0</td>\n",
       "      <td>Everyone</td>\n",
       "      <td>Art &amp; Design</td>\n",
       "      <td>August 1, 2018</td>\n",
       "      <td>1.2.4</td>\n",
       "      <td>4.0.3 and up</td>\n",
       "    </tr>\n",
       "    <tr>\n",
       "      <th>3</th>\n",
       "      <td>Sketch - Draw &amp; Paint</td>\n",
       "      <td>ART_AND_DESIGN</td>\n",
       "      <td>4.5</td>\n",
       "      <td>215644</td>\n",
       "      <td>25M</td>\n",
       "      <td>50,000,000+</td>\n",
       "      <td>Free</td>\n",
       "      <td>0</td>\n",
       "      <td>Teen</td>\n",
       "      <td>Art &amp; Design</td>\n",
       "      <td>June 8, 2018</td>\n",
       "      <td>Varies with device</td>\n",
       "      <td>4.2 and up</td>\n",
       "    </tr>\n",
       "    <tr>\n",
       "      <th>4</th>\n",
       "      <td>Pixel Draw - Number Art Coloring Book</td>\n",
       "      <td>ART_AND_DESIGN</td>\n",
       "      <td>4.3</td>\n",
       "      <td>967</td>\n",
       "      <td>2.8M</td>\n",
       "      <td>100,000+</td>\n",
       "      <td>Free</td>\n",
       "      <td>0</td>\n",
       "      <td>Everyone</td>\n",
       "      <td>Art &amp; Design;Creativity</td>\n",
       "      <td>June 20, 2018</td>\n",
       "      <td>1.1</td>\n",
       "      <td>4.4 and up</td>\n",
       "    </tr>\n",
       "  </tbody>\n",
       "</table>\n",
       "</div>"
      ],
      "text/plain": [
       "                                                 App        Category  Rating  \\\n",
       "0     Photo Editor & Candy Camera & Grid & ScrapBook  ART_AND_DESIGN     4.1   \n",
       "1                                Coloring book moana  ART_AND_DESIGN     3.9   \n",
       "2  U Launcher Lite – FREE Live Cool Themes, Hide ...  ART_AND_DESIGN     4.7   \n",
       "3                              Sketch - Draw & Paint  ART_AND_DESIGN     4.5   \n",
       "4              Pixel Draw - Number Art Coloring Book  ART_AND_DESIGN     4.3   \n",
       "\n",
       "  Reviews  Size     Installs  Type Price Content Rating  \\\n",
       "0     159   19M      10,000+  Free     0       Everyone   \n",
       "1     967   14M     500,000+  Free     0       Everyone   \n",
       "2   87510  8.7M   5,000,000+  Free     0       Everyone   \n",
       "3  215644   25M  50,000,000+  Free     0           Teen   \n",
       "4     967  2.8M     100,000+  Free     0       Everyone   \n",
       "\n",
       "                      Genres      Last Updated         Current Ver  \\\n",
       "0               Art & Design   January 7, 2018               1.0.0   \n",
       "1  Art & Design;Pretend Play  January 15, 2018               2.0.0   \n",
       "2               Art & Design    August 1, 2018               1.2.4   \n",
       "3               Art & Design      June 8, 2018  Varies with device   \n",
       "4    Art & Design;Creativity     June 20, 2018                 1.1   \n",
       "\n",
       "    Android Ver  \n",
       "0  4.0.3 and up  \n",
       "1  4.0.3 and up  \n",
       "2  4.0.3 and up  \n",
       "3    4.2 and up  \n",
       "4    4.4 and up  "
      ]
     },
     "execution_count": 2,
     "metadata": {},
     "output_type": "execute_result"
    }
   ],
   "source": [
    "df.head()"
   ]
  },
  {
   "cell_type": "markdown",
   "metadata": {
    "id": "Oc441vzsTaaM"
   },
   "source": [
    "* Check the Last 3 Rows of the Dataset"
   ]
  },
  {
   "cell_type": "code",
   "execution_count": 3,
   "metadata": {
    "colab": {
     "base_uri": "https://localhost:8080/",
     "height": 213
    },
    "id": "Q66ldj1xTpb1",
    "outputId": "f48a3586-1d10-4325-d0e2-1f8f07702e08"
   },
   "outputs": [
    {
     "data": {
      "text/html": [
       "<div>\n",
       "<style scoped>\n",
       "    .dataframe tbody tr th:only-of-type {\n",
       "        vertical-align: middle;\n",
       "    }\n",
       "\n",
       "    .dataframe tbody tr th {\n",
       "        vertical-align: top;\n",
       "    }\n",
       "\n",
       "    .dataframe thead th {\n",
       "        text-align: right;\n",
       "    }\n",
       "</style>\n",
       "<table border=\"1\" class=\"dataframe\">\n",
       "  <thead>\n",
       "    <tr style=\"text-align: right;\">\n",
       "      <th></th>\n",
       "      <th>App</th>\n",
       "      <th>Category</th>\n",
       "      <th>Rating</th>\n",
       "      <th>Reviews</th>\n",
       "      <th>Size</th>\n",
       "      <th>Installs</th>\n",
       "      <th>Type</th>\n",
       "      <th>Price</th>\n",
       "      <th>Content Rating</th>\n",
       "      <th>Genres</th>\n",
       "      <th>Last Updated</th>\n",
       "      <th>Current Ver</th>\n",
       "      <th>Android Ver</th>\n",
       "    </tr>\n",
       "  </thead>\n",
       "  <tbody>\n",
       "    <tr>\n",
       "      <th>10838</th>\n",
       "      <td>Parkinson Exercices FR</td>\n",
       "      <td>MEDICAL</td>\n",
       "      <td>NaN</td>\n",
       "      <td>3</td>\n",
       "      <td>9.5M</td>\n",
       "      <td>1,000+</td>\n",
       "      <td>Free</td>\n",
       "      <td>0</td>\n",
       "      <td>Everyone</td>\n",
       "      <td>Medical</td>\n",
       "      <td>January 20, 2017</td>\n",
       "      <td>1.0</td>\n",
       "      <td>2.2 and up</td>\n",
       "    </tr>\n",
       "    <tr>\n",
       "      <th>10839</th>\n",
       "      <td>The SCP Foundation DB fr nn5n</td>\n",
       "      <td>BOOKS_AND_REFERENCE</td>\n",
       "      <td>4.5</td>\n",
       "      <td>114</td>\n",
       "      <td>Varies with device</td>\n",
       "      <td>1,000+</td>\n",
       "      <td>Free</td>\n",
       "      <td>0</td>\n",
       "      <td>Mature 17+</td>\n",
       "      <td>Books &amp; Reference</td>\n",
       "      <td>January 19, 2015</td>\n",
       "      <td>Varies with device</td>\n",
       "      <td>Varies with device</td>\n",
       "    </tr>\n",
       "    <tr>\n",
       "      <th>10840</th>\n",
       "      <td>iHoroscope - 2018 Daily Horoscope &amp; Astrology</td>\n",
       "      <td>LIFESTYLE</td>\n",
       "      <td>4.5</td>\n",
       "      <td>398307</td>\n",
       "      <td>19M</td>\n",
       "      <td>10,000,000+</td>\n",
       "      <td>Free</td>\n",
       "      <td>0</td>\n",
       "      <td>Everyone</td>\n",
       "      <td>Lifestyle</td>\n",
       "      <td>July 25, 2018</td>\n",
       "      <td>Varies with device</td>\n",
       "      <td>Varies with device</td>\n",
       "    </tr>\n",
       "  </tbody>\n",
       "</table>\n",
       "</div>"
      ],
      "text/plain": [
       "                                                 App             Category  \\\n",
       "10838                         Parkinson Exercices FR              MEDICAL   \n",
       "10839                  The SCP Foundation DB fr nn5n  BOOKS_AND_REFERENCE   \n",
       "10840  iHoroscope - 2018 Daily Horoscope & Astrology            LIFESTYLE   \n",
       "\n",
       "       Rating Reviews                Size     Installs  Type Price  \\\n",
       "10838     NaN       3                9.5M       1,000+  Free     0   \n",
       "10839     4.5     114  Varies with device       1,000+  Free     0   \n",
       "10840     4.5  398307                 19M  10,000,000+  Free     0   \n",
       "\n",
       "      Content Rating             Genres      Last Updated         Current Ver  \\\n",
       "10838       Everyone            Medical  January 20, 2017                 1.0   \n",
       "10839     Mature 17+  Books & Reference  January 19, 2015  Varies with device   \n",
       "10840       Everyone          Lifestyle     July 25, 2018  Varies with device   \n",
       "\n",
       "              Android Ver  \n",
       "10838          2.2 and up  \n",
       "10839  Varies with device  \n",
       "10840  Varies with device  "
      ]
     },
     "execution_count": 3,
     "metadata": {},
     "output_type": "execute_result"
    }
   ],
   "source": [
    "# Displaying Last 3 Rows\n",
    "df.tail(3)"
   ]
  },
  {
   "cell_type": "markdown",
   "metadata": {
    "id": "4ZhpRcHVTs9_"
   },
   "source": [
    "* Find the Shape of the Dataset"
   ]
  },
  {
   "cell_type": "code",
   "execution_count": 4,
   "metadata": {
    "colab": {
     "base_uri": "https://localhost:8080/"
    },
    "id": "KCgjz8ePTvDv",
    "outputId": "a9258ec3-fafb-40a1-8457-0142b08cb7aa"
   },
   "outputs": [
    {
     "data": {
      "text/plain": [
       "(10841, 13)"
      ]
     },
     "execution_count": 4,
     "metadata": {},
     "output_type": "execute_result"
    }
   ],
   "source": [
    "# Shape of the Dataset\n",
    "df.shape"
   ]
  },
  {
   "cell_type": "markdown",
   "metadata": {
    "id": "EJhYkmX_Tx2s"
   },
   "source": [
    "* Get Dataset Information"
   ]
  },
  {
   "cell_type": "code",
   "execution_count": 5,
   "metadata": {
    "colab": {
     "base_uri": "https://localhost:8080/"
    },
    "id": "2yu-4Md7Qvvk",
    "outputId": "6b9f6aeb-85fc-45b7-e17e-04a60a446cda"
   },
   "outputs": [
    {
     "name": "stdout",
     "output_type": "stream",
     "text": [
      "<class 'pandas.core.frame.DataFrame'>\n",
      "RangeIndex: 10841 entries, 0 to 10840\n",
      "Data columns (total 13 columns):\n",
      " #   Column          Non-Null Count  Dtype  \n",
      "---  ------          --------------  -----  \n",
      " 0   App             10841 non-null  object \n",
      " 1   Category        10841 non-null  object \n",
      " 2   Rating          9367 non-null   float64\n",
      " 3   Reviews         10841 non-null  object \n",
      " 4   Size            10841 non-null  object \n",
      " 5   Installs        10841 non-null  object \n",
      " 6   Type            10840 non-null  object \n",
      " 7   Price           10841 non-null  object \n",
      " 8   Content Rating  10840 non-null  object \n",
      " 9   Genres          10841 non-null  object \n",
      " 10  Last Updated    10841 non-null  object \n",
      " 11  Current Ver     10833 non-null  object \n",
      " 12  Android Ver     10838 non-null  object \n",
      "dtypes: float64(1), object(12)\n",
      "memory usage: 1.1+ MB\n"
     ]
    }
   ],
   "source": [
    "df.info()"
   ]
  },
  {
   "cell_type": "markdown",
   "metadata": {
    "id": "ghsJP0UlT9H_"
   },
   "source": [
    "* Get Overall Statistics About the Dataframe"
   ]
  },
  {
   "cell_type": "code",
   "execution_count": 6,
   "metadata": {
    "colab": {
     "base_uri": "https://localhost:8080/",
     "height": 300
    },
    "id": "GXSzVBt7T-kT",
    "outputId": "2caa6936-58b2-4f4d-c7ca-b2c4c37d785f"
   },
   "outputs": [
    {
     "data": {
      "text/html": [
       "<div>\n",
       "<style scoped>\n",
       "    .dataframe tbody tr th:only-of-type {\n",
       "        vertical-align: middle;\n",
       "    }\n",
       "\n",
       "    .dataframe tbody tr th {\n",
       "        vertical-align: top;\n",
       "    }\n",
       "\n",
       "    .dataframe thead th {\n",
       "        text-align: right;\n",
       "    }\n",
       "</style>\n",
       "<table border=\"1\" class=\"dataframe\">\n",
       "  <thead>\n",
       "    <tr style=\"text-align: right;\">\n",
       "      <th></th>\n",
       "      <th>Rating</th>\n",
       "    </tr>\n",
       "  </thead>\n",
       "  <tbody>\n",
       "    <tr>\n",
       "      <th>count</th>\n",
       "      <td>9367.000000</td>\n",
       "    </tr>\n",
       "    <tr>\n",
       "      <th>mean</th>\n",
       "      <td>4.193338</td>\n",
       "    </tr>\n",
       "    <tr>\n",
       "      <th>std</th>\n",
       "      <td>0.537431</td>\n",
       "    </tr>\n",
       "    <tr>\n",
       "      <th>min</th>\n",
       "      <td>1.000000</td>\n",
       "    </tr>\n",
       "    <tr>\n",
       "      <th>25%</th>\n",
       "      <td>4.000000</td>\n",
       "    </tr>\n",
       "    <tr>\n",
       "      <th>50%</th>\n",
       "      <td>4.300000</td>\n",
       "    </tr>\n",
       "    <tr>\n",
       "      <th>75%</th>\n",
       "      <td>4.500000</td>\n",
       "    </tr>\n",
       "    <tr>\n",
       "      <th>max</th>\n",
       "      <td>19.000000</td>\n",
       "    </tr>\n",
       "  </tbody>\n",
       "</table>\n",
       "</div>"
      ],
      "text/plain": [
       "            Rating\n",
       "count  9367.000000\n",
       "mean      4.193338\n",
       "std       0.537431\n",
       "min       1.000000\n",
       "25%       4.000000\n",
       "50%       4.300000\n",
       "75%       4.500000\n",
       "max      19.000000"
      ]
     },
     "execution_count": 6,
     "metadata": {},
     "output_type": "execute_result"
    }
   ],
   "source": [
    "# Overall Statistics\n",
    "df.describe()"
   ]
  },
  {
   "cell_type": "markdown",
   "metadata": {
    "id": "Q45VcPt3UDld"
   },
   "source": [
    "* Total Number of App Titles Containing \"Astrology\""
   ]
  },
  {
   "cell_type": "code",
   "execution_count": 7,
   "metadata": {
    "id": "MdKjruW3UHg3"
   },
   "outputs": [],
   "source": [
    "# Apps with \"Astrology\" in Title\n",
    "astrology_apps = df[df['App'].str.contains('Astrology', case=False, na=False)]\n",
    "astrology_apps_count = len(astrology_apps)"
   ]
  },
  {
   "cell_type": "markdown",
   "metadata": {
    "id": "TVR1ymuJUKip"
   },
   "source": [
    "*  Find Average App Rating"
   ]
  },
  {
   "cell_type": "code",
   "execution_count": 8,
   "metadata": {
    "colab": {
     "base_uri": "https://localhost:8080/"
    },
    "id": "0bdR50Z5UMao",
    "outputId": "feb5aae1-e210-4b50-b739-d15bb41590da"
   },
   "outputs": [
    {
     "name": "stdout",
     "output_type": "stream",
     "text": [
      "4.193338315362443\n"
     ]
    }
   ],
   "source": [
    "# Average Rating\n",
    "average_rating = df['Rating'].mean()\n",
    "print(average_rating)"
   ]
  },
  {
   "cell_type": "markdown",
   "metadata": {
    "id": "iBBMZJTSUPHn"
   },
   "source": [
    "* Find Total Number of Unique Categories"
   ]
  },
  {
   "cell_type": "code",
   "execution_count": 9,
   "metadata": {
    "colab": {
     "base_uri": "https://localhost:8080/"
    },
    "id": "krwu28GIURPQ",
    "outputId": "92feb36d-1d6c-41d2-ac48-e215e1b07cdc"
   },
   "outputs": [
    {
     "name": "stdout",
     "output_type": "stream",
     "text": [
      "34\n"
     ]
    }
   ],
   "source": [
    "# Unique Categories\n",
    "unique_categories = df['Category'].nunique()\n",
    "print(unique_categories)"
   ]
  },
  {
   "cell_type": "markdown",
   "metadata": {
    "id": "NXNsyi-wUTnx"
   },
   "source": [
    "* Which Category Has the Highest Average Rating?"
   ]
  },
  {
   "cell_type": "code",
   "execution_count": 10,
   "metadata": {
    "colab": {
     "base_uri": "https://localhost:8080/"
    },
    "id": "XjNZIFeEUYJp",
    "outputId": "22d6183f-df9d-4e28-f537-700816a28de3"
   },
   "outputs": [
    {
     "name": "stdout",
     "output_type": "stream",
     "text": [
      "1.9\n",
      "19.0\n"
     ]
    }
   ],
   "source": [
    "# Category with Highest Average Rating\n",
    "highest_avg_rating_category = df.groupby('Category')['Rating'].mean().idxmax()\n",
    "highest_avg_rating = df.groupby('Category')['Rating'].mean().max()\n",
    "print(highest_avg_rating_category)\n",
    "print(highest_avg_rating)"
   ]
  },
  {
   "cell_type": "markdown",
   "metadata": {
    "id": "AjlA8lNhVXGP"
   },
   "source": [
    "* Total Number of Apps Having 5-Star Rating"
   ]
  },
  {
   "cell_type": "code",
   "execution_count": 11,
   "metadata": {
    "colab": {
     "base_uri": "https://localhost:8080/"
    },
    "id": "H0fdcadTVb1_",
    "outputId": "7a588387-3241-4b69-b192-9f81d1470491"
   },
   "outputs": [
    {
     "name": "stdout",
     "output_type": "stream",
     "text": [
      "274\n"
     ]
    }
   ],
   "source": [
    "# Total Apps with 5-Star Rating\n",
    "five_star_apps = len(df[df['Rating'] == 5])\n",
    "print(five_star_apps)"
   ]
  },
  {
   "cell_type": "markdown",
   "metadata": {
    "id": "HNdhadmRVwAf"
   },
   "source": [
    "* Find the Average Value of Reviews"
   ]
  },
  {
   "cell_type": "code",
   "execution_count": 12,
   "metadata": {
    "colab": {
     "base_uri": "https://localhost:8080/"
    },
    "id": "0kNzgc4XVxop",
    "outputId": "75d2d1cd-b2d8-4af0-96ff-3cd40f518842"
   },
   "outputs": [
    {
     "name": "stdout",
     "output_type": "stream",
     "text": [
      "444152.89603321033\n"
     ]
    }
   ],
   "source": [
    "# Convert Reviews to Numeric Type\n",
    "df['Reviews'] = pd.to_numeric(df['Reviews'], errors='coerce')\n",
    "average_reviews = df['Reviews'].mean()\n",
    "print(average_reviews)"
   ]
  },
  {
   "cell_type": "markdown",
   "metadata": {
    "id": "aM_y0QrUWNxI"
   },
   "source": [
    "* Find Total Number of Free and Paid Apps"
   ]
  },
  {
   "cell_type": "code",
   "execution_count": 13,
   "metadata": {
    "colab": {
     "base_uri": "https://localhost:8080/"
    },
    "id": "1KXRvQgkVzBp",
    "outputId": "2a765630-0d91-4c19-9dba-2c4124a20021"
   },
   "outputs": [
    {
     "name": "stdout",
     "output_type": "stream",
     "text": [
      "Free    10039\n",
      "Paid      800\n",
      "0           1\n",
      "Name: Type, dtype: int64\n"
     ]
    }
   ],
   "source": [
    "# Total Number of Free and Paid Apps\n",
    "free_paid_counts = df['Type'].value_counts()\n",
    "print(free_paid_counts)"
   ]
  },
  {
   "cell_type": "markdown",
   "metadata": {
    "id": "zXOCM8EOW5PV"
   },
   "source": [
    "* Find Total Number of Free and Paid Apps"
   ]
  },
  {
   "cell_type": "code",
   "execution_count": 14,
   "metadata": {
    "colab": {
     "base_uri": "https://localhost:8080/"
    },
    "id": "8m5tjSEPVzQ_",
    "outputId": "d442c66b-7d7d-495a-9a1f-d699468c5062"
   },
   "outputs": [
    {
     "name": "stdout",
     "output_type": "stream",
     "text": [
      "Free    10039\n",
      "Paid      800\n",
      "0           1\n",
      "Name: Type, dtype: int64\n"
     ]
    }
   ],
   "source": [
    "# Total Number of Free and Paid Apps\n",
    "free_paid_counts = df['Type'].value_counts()\n",
    "print(free_paid_counts)"
   ]
  },
  {
   "cell_type": "markdown",
   "metadata": {
    "id": "WyXxuAdzWME1"
   },
   "source": [
    "*  Which App Has the Maximum Reviews?"
   ]
  },
  {
   "cell_type": "code",
   "execution_count": 15,
   "metadata": {
    "colab": {
     "base_uri": "https://localhost:8080/"
    },
    "id": "gUFUtsRLVzf0",
    "outputId": "cc13e9c6-f0a7-40b1-a021-10a2d5a4b06a"
   },
   "outputs": [
    {
     "name": "stdout",
     "output_type": "stream",
     "text": [
      "Facebook\n",
      "78158306.0\n"
     ]
    }
   ],
   "source": [
    "# App with Maximum Reviews\n",
    "max_reviews_app = df.loc[df['Reviews'].idxmax()]['App']\n",
    "max_reviews_count = df['Reviews'].max()\n",
    "print(max_reviews_app)\n",
    "print(max_reviews_count)"
   ]
  },
  {
   "cell_type": "markdown",
   "metadata": {
    "id": "JHpriebhWHco"
   },
   "source": [
    "* Display the Top 5 Apps with the Highest Reviews"
   ]
  },
  {
   "cell_type": "code",
   "execution_count": 16,
   "metadata": {
    "colab": {
     "base_uri": "https://localhost:8080/"
    },
    "id": "W7-_rx7rVzoq",
    "outputId": "faceb8f0-2724-4db0-abee-df5e31ceb8ed"
   },
   "outputs": [
    {
     "name": "stdout",
     "output_type": "stream",
     "text": [
      "                     App     Reviews\n",
      "2544            Facebook  78158306.0\n",
      "3943            Facebook  78128208.0\n",
      "336   WhatsApp Messenger  69119316.0\n",
      "381   WhatsApp Messenger  69119316.0\n",
      "3904  WhatsApp Messenger  69109672.0\n"
     ]
    }
   ],
   "source": [
    "# Top 5 Apps with Highest Reviews\n",
    "top_5_reviews = df.nlargest(5, 'Reviews')[['App', 'Reviews']]\n",
    "print(top_5_reviews)"
   ]
  },
  {
   "cell_type": "markdown",
   "metadata": {
    "id": "d6gofwOdWF2C"
   },
   "source": [
    "* Find Average Rating of Free and Paid Apps"
   ]
  },
  {
   "cell_type": "code",
   "execution_count": 17,
   "metadata": {
    "colab": {
     "base_uri": "https://localhost:8080/"
    },
    "id": "bgppqwNhVz2h",
    "outputId": "07b6b9c7-f20d-4702-8cc8-d2d443710959"
   },
   "outputs": [
    {
     "name": "stdout",
     "output_type": "stream",
     "text": [
      "Type\n",
      "0       19.000000\n",
      "Free     4.186203\n",
      "Paid     4.266615\n",
      "Name: Rating, dtype: float64\n"
     ]
    }
   ],
   "source": [
    "# Average Rating for Free and Paid Apps\n",
    "free_paid_avg_rating = df.groupby('Type')['Rating'].mean()\n",
    "print(free_paid_avg_rating)"
   ]
  },
  {
   "cell_type": "markdown",
   "metadata": {
    "id": "qnAnKVsGWA9l"
   },
   "source": [
    "* Display Top 5 Apps with Maximum Installs"
   ]
  },
  {
   "cell_type": "code",
   "execution_count": 18,
   "metadata": {
    "colab": {
     "base_uri": "https://localhost:8080/",
     "height": 310
    },
    "id": "N3NvmfINWAFj",
    "outputId": "2c74d81e-2f4f-451d-82a1-277d05f9d763"
   },
   "outputs": [
    {
     "data": {
      "text/html": [
       "<div>\n",
       "<style scoped>\n",
       "    .dataframe tbody tr th:only-of-type {\n",
       "        vertical-align: middle;\n",
       "    }\n",
       "\n",
       "    .dataframe tbody tr th {\n",
       "        vertical-align: top;\n",
       "    }\n",
       "\n",
       "    .dataframe thead th {\n",
       "        text-align: right;\n",
       "    }\n",
       "</style>\n",
       "<table border=\"1\" class=\"dataframe\">\n",
       "  <thead>\n",
       "    <tr style=\"text-align: right;\">\n",
       "      <th></th>\n",
       "      <th>App</th>\n",
       "      <th>Installs</th>\n",
       "    </tr>\n",
       "  </thead>\n",
       "  <tbody>\n",
       "    <tr>\n",
       "      <th>152</th>\n",
       "      <td>Google Play Books</td>\n",
       "      <td>1.000000e+09</td>\n",
       "    </tr>\n",
       "    <tr>\n",
       "      <th>335</th>\n",
       "      <td>Messenger – Text and Video Chat for Free</td>\n",
       "      <td>1.000000e+09</td>\n",
       "    </tr>\n",
       "    <tr>\n",
       "      <th>336</th>\n",
       "      <td>WhatsApp Messenger</td>\n",
       "      <td>1.000000e+09</td>\n",
       "    </tr>\n",
       "    <tr>\n",
       "      <th>338</th>\n",
       "      <td>Google Chrome: Fast &amp; Secure</td>\n",
       "      <td>1.000000e+09</td>\n",
       "    </tr>\n",
       "    <tr>\n",
       "      <th>340</th>\n",
       "      <td>Gmail</td>\n",
       "      <td>1.000000e+09</td>\n",
       "    </tr>\n",
       "  </tbody>\n",
       "</table>\n",
       "</div>"
      ],
      "text/plain": [
       "                                          App      Installs\n",
       "152                         Google Play Books  1.000000e+09\n",
       "335  Messenger – Text and Video Chat for Free  1.000000e+09\n",
       "336                        WhatsApp Messenger  1.000000e+09\n",
       "338              Google Chrome: Fast & Secure  1.000000e+09\n",
       "340                                     Gmail  1.000000e+09"
      ]
     },
     "execution_count": 18,
     "metadata": {},
     "output_type": "execute_result"
    }
   ],
   "source": [
    "# Remove non-numeric values in 'Installs' column (e.g., 'Free')\n",
    "df = df[df['Installs'] != 'Free']\n",
    "\n",
    "# Convert 'Installs' to numeric by removing commas and '+' signs\n",
    "df['Installs'] = df['Installs'].str.replace('[+,]', '', regex=True).astype(float)\n",
    "\n",
    "# Now, get the top 5 apps with maximum installs\n",
    "top_5_installs = df.nlargest(5, 'Installs')[['App', 'Installs']]\n",
    "top_5_installs"
   ]
  },
  {
   "cell_type": "markdown",
   "metadata": {
    "id": "EPYVHQRWYSFH"
   },
   "source": [
    "* Distribution of App Ratings"
   ]
  },
  {
   "cell_type": "code",
   "execution_count": 19,
   "metadata": {
    "colab": {
     "base_uri": "https://localhost:8080/",
     "height": 564
    },
    "id": "1QKKM8M9YTgy",
    "outputId": "6a48c18f-c6ba-4543-cff9-590d0c8e7b4f"
   },
   "outputs": [
    {
     "data": {
      "image/png": "[encoded data removed]",
      "text/plain": [
       "<Figure size 1000x600 with 1 Axes>"
      ]
     },
     "metadata": {},
     "output_type": "display_data"
    }
   ],
   "source": [
    "# Distribution of Ratings\n",
    "plt.figure(figsize=(10,6))\n",
    "sns.histplot(df['Rating'].dropna(), bins=20, kde=True)\n",
    "plt.title(\"Distribution of App Ratings\")\n",
    "plt.xlabel(\"Rating\")\n",
    "plt.ylabel(\"Frequency\")\n",
    "plt.show()"
   ]
  },
  {
   "cell_type": "markdown",
   "metadata": {
    "id": "J9pvTRWfYYQA"
   },
   "source": [
    "* Average Rating by Category (Bar Plot)"
   ]
  },
  {
   "cell_type": "code",
   "execution_count": 20,
   "metadata": {
    "colab": {
     "base_uri": "https://localhost:8080/",
     "height": 880
    },
    "id": "2ne1N--oYZ8z",
    "outputId": "3c447daa-e552-4d9d-c754-678d48235d0e"
   },
   "outputs": [
    {
     "data": {
      "image/png": "[encoded data removed]",
      "text/plain": [
       "<Figure size 1500x800 with 1 Axes>"
      ]
     },
     "metadata": {},
     "output_type": "display_data"
    }
   ],
   "source": [
    "# Average Rating by Category\n",
    "plt.figure(figsize=(15,8))\n",
    "category_ratings = df.groupby('Category')['Rating'].mean().sort_values(ascending=False)\n",
    "sns.barplot(x=category_ratings.index, y=category_ratings.values)\n",
    "plt.xticks(rotation=90)\n",
    "plt.title(\"Average Rating by Category\")\n",
    "plt.xlabel(\"Category\")\n",
    "plt.ylabel(\"Average Rating\")\n",
    "plt.show()"
   ]
  },
  {
   "cell_type": "markdown",
   "metadata": {
    "id": "Gk7-1hPHYdSF"
   },
   "source": [
    "* Total Number of Apps by Content Rating"
   ]
  },
  {
   "cell_type": "code",
   "execution_count": 21,
   "metadata": {
    "colab": {
     "base_uri": "https://localhost:8080/",
     "height": 564
    },
    "id": "AUIWPNw7Yfg6",
    "outputId": "c062a203-1667-4503-f369-f986c6dda4d8"
   },
   "outputs": [
    {
     "data": {
      "image/png": "[encoded data removed]",
      "text/plain": [
       "<Figure size 1000x600 with 1 Axes>"
      ]
     },
     "metadata": {},
     "output_type": "display_data"
    }
   ],
   "source": [
    "# Total Number of Apps by Content Rating\n",
    "plt.figure(figsize=(10,6))\n",
    "sns.countplot(x='Content Rating', data=df)\n",
    "plt.title(\"Total Number of Apps by Content Rating\")\n",
    "plt.xlabel(\"Content Rating\")\n",
    "plt.ylabel(\"Count\")\n",
    "plt.show()"
   ]
  },
  {
   "cell_type": "markdown",
   "metadata": {
    "id": "r9iG6BwcbDsB"
   },
   "source": [
    "### Conclusion\n",
    "\n",
    "This analysis will highlight critical aspects of the Google Play Store’s app ecosystem, such as the popularity of free apps, user preferences across categories, and top-rated apps. By identifying factors correlated with high ratings and installs, this project will serve as a valuable resource for app developers and marketers. Insights gained can drive decisions around app design, category selection, and marketing strategies to increase user engagement and overall success on the platform."
   ]
  }
 ],
 "metadata": {
  "accelerator": "GPU",
  "colab": {
   "gpuType": "T4",
   "provenance": []
  },
  "kernelspec": {
   "display_name": "Python 3",
   "name": "python3"
  },
  "language_info": {
   "codemirror_mode": {
    "name": "ipython",
    "version": 3
   },
   "file_extension": ".py",
   "mimetype": "text/x-python",
   "name": "python",
   "nbconvert_exporter": "python",
   "pygments_lexer": "ipython3",
   "version": "3.11.3"
  }
 },
 "nbformat": 4,
 "nbformat_minor": 0
}
